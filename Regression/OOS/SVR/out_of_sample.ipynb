{
 "cells": [
  {
   "cell_type": "code",
   "execution_count": 34,
   "id": "c2496ceb-4616-4ee5-bcad-4dc607e4fbb2",
   "metadata": {},
   "outputs": [],
   "source": [
    "from pandas import read_excel\n",
    "from pandas import DataFrame\n",
    "from pandas import concat\n",
    "from pandas import Series\n",
    "import numpy\n",
    "from numpy import append\n",
    "from numpy import array\n",
    "from numpy import diff\n",
    "from sklearn.preprocessing import MinMaxScaler\n",
    "from sklearn.model_selection import RandomizedSearchCV\n",
    "from sklearn.svm import SVR\n",
    "from sklearn.metrics import mean_squared_error\n",
    "from math import sqrt\n",
    "import warnings\n",
    "warnings.filterwarnings(\"ignore\")"
   ]
  },
  {
   "cell_type": "code",
   "execution_count": 35,
   "id": "4ee68e6e",
   "metadata": {},
   "outputs": [],
   "source": [
    "# create a differenced series\n",
    "def difference(dataset, interval=1):\n",
    "    diff = list()\n",
    "    for i in range(interval, len(dataset)):\n",
    "        value = dataset[i] - dataset[i - interval]\n",
    "        diff.append(value)\n",
    "    return array(diff)"
   ]
  },
  {
   "cell_type": "code",
   "execution_count": 36,
   "id": "3340861b-86d9-45bc-a4e7-1bbfc1b30efc",
   "metadata": {},
   "outputs": [],
   "source": [
    "# scale train and test data to [-1, 1]\n",
    "def scale(train, test):\n",
    "    # fit scaler\n",
    "    scaler = MinMaxScaler(feature_range=(-1, 1))\n",
    "    scaler = scaler.fit(train)\n",
    "    # transform train\n",
    "    train = train.reshape(train.shape[0], train.shape[1])\n",
    "    train_scaled = scaler.transform(train)\n",
    "    # transform test\n",
    "    test = test.reshape(test.shape[0], test.shape[1])\n",
    "    test_scaled = scaler.transform(test)\n",
    "    return scaler, train_scaled, test_scaled"
   ]
  },
  {
   "cell_type": "code",
   "execution_count": 37,
   "id": "d44d969e-c2ea-4368-bd05-e134bb7cdeb2",
   "metadata": {},
   "outputs": [],
   "source": [
    "# Get technical indicators\n",
    "def get_technical_indicators(data):\n",
    "    # Create Moving Average\n",
    "    data = DataFrame(data)\n",
    "    dataset = DataFrame()\n",
    "    dataset['ma5'] = data.rolling(window=5).mean()\n",
    "    dataset['ma20'] = data.rolling(window=25).mean()\n",
    "    \n",
    "    # Create MACD\n",
    "    dataset['25ema'] = data.ewm(span=25).mean()\n",
    "    dataset['10ema'] = data.ewm(span=10).mean()\n",
    "    dataset['MACD'] = dataset['10ema']-dataset['25ema']\n",
    "\n",
    "    # Create Bollinger Bands\n",
    "    dataset['20sd'] = data.rolling(window = 20).std()\n",
    "    dataset['upper_band'] = dataset['ma20'] + (dataset['20sd']*2)\n",
    "    dataset['lower_band'] = dataset['ma20'] - (dataset['20sd']*2)\n",
    "    \n",
    "    # Create Exponential moving average\n",
    "    dataset['ema'] = data.ewm(com=0.5).mean()\n",
    "    \n",
    "    # Create Momentum\n",
    "    dataset['momentum'] = data-1\n",
    "    # dataset['log_momentum'] = log(dataset['momentum'])\n",
    "    return dataset.dropna()"
   ]
  },
  {
   "cell_type": "code",
   "execution_count": 38,
   "id": "ac7c6c1a-c254-4418-88a0-19ea44067b2a",
   "metadata": {},
   "outputs": [],
   "source": [
    "def timeseries_to_supervised(data, lag):\n",
    "    df = DataFrame(data)\n",
    "    columns = [df.shift(i) for i in range(1, lag+1)]\n",
    "    columns.append(df)\n",
    "    df = concat(columns, axis=1)\n",
    "    return DataFrame(df)"
   ]
  },
  {
   "cell_type": "code",
   "execution_count": 39,
   "id": "d55867ca-7fda-4d51-9494-66da5ac270c0",
   "metadata": {},
   "outputs": [],
   "source": [
    "# fit ML model\n",
    "def model_fit(data):\n",
    "    X, y = data.iloc[:,:-1], data.iloc[:,-1]\n",
    "    param_grid = {'C': [0.1, 1, 10, 100], 'gamma': [1,0.1,0.01,0.001],\n",
    "                  'kernel': ['rbf', 'poly', 'sigmoid']}\n",
    "    model = RandomizedSearchCV(SVR(),param_grid,cv=5,n_iter=20,refit=\"AUC\",verbose=1,n_jobs=-1)\n",
    "    model_fit = model.fit(X,y)\n",
    "    return model_fit"
   ]
  },
  {
   "cell_type": "code",
   "execution_count": 40,
   "id": "d83cf2ce-69bd-48fb-8742-1e0bb8a35f76",
   "metadata": {},
   "outputs": [],
   "source": [
    "# make a one-step forecast\n",
    "def model_predict(model, X):\n",
    "    yhat = model.predict(X.reshape(1, -1))\n",
    "    return yhat[0]"
   ]
  },
  {
   "cell_type": "code",
   "execution_count": 41,
   "id": "3a8cf8ed-7867-4592-ac71-7e760f347101",
   "metadata": {},
   "outputs": [],
   "source": [
    "# inverse scaling for a forecasted value\n",
    "def invert_scale(scaler, X):\n",
    "    inverted = scaler.inverse_transform(array(X).reshape(-1,1))\n",
    "    return array(inverted)"
   ]
  },
  {
   "cell_type": "code",
   "execution_count": 42,
   "id": "bef92a4d",
   "metadata": {},
   "outputs": [],
   "source": [
    "# invert differenced value\n",
    "def invert_difference(last_ob, yhat_diff, interval=1):\n",
    "    return numpy.r_[last_ob, yhat_diff].cumsum()"
   ]
  },
  {
   "cell_type": "code",
   "execution_count": 43,
   "id": "00a335cd-faf8-4569-9987-ca2a2e79e682",
   "metadata": {},
   "outputs": [],
   "source": [
    "# run a repeated experiment\n",
    "def experiment(series, features):\n",
    "    # transform data to be stationary\n",
    "    raw_values = series.values\n",
    "    diff_values = difference(raw_values)\n",
    "    \n",
    "    # split data into train and test-sets\n",
    "    len_test = 150\n",
    "    train = diff_values[:-len_test]\n",
    "    test = diff_values[-len_test:]\n",
    "    \n",
    "    # transform the scale of the data\n",
    "    scaler, train_scaled, test_scaled = scale(train, test)\n",
    "    \n",
    "    # get technical indicators\n",
    "    df = get_technical_indicators(train_scaled)\n",
    "    \n",
    "    # transform data to be supervised learning\n",
    "    supervised = timeseries_to_supervised(train_scaled, features)\n",
    "    supervised_values = supervised.values[features:,:]\n",
    "    \n",
    "    data = concat([df, DataFrame(supervised_values)],axis=1).dropna()\n",
    "    \n",
    "    # fit the base model\n",
    "    mod = model_fit(data)\n",
    "\n",
    "    # predict first row\n",
    "    testX, testy = data.iloc[-1, :-1], data.iloc[-1, -1]\n",
    "\n",
    "    # forecast test dataset\n",
    "    predictions = list()\n",
    "    for i in range(len(test)):\n",
    "        # predict\n",
    "        yhat_scaled = model_predict(mod, array(testX))\n",
    "        # store forecast\n",
    "        train_scaled = append(train_scaled,yhat_scaled)\n",
    "        df = get_technical_indicators(train_scaled)\n",
    "        supervised = timeseries_to_supervised(train_scaled, features)\n",
    "        supervised_values = supervised.values[features:,:]\n",
    "        data = concat([df, DataFrame(supervised_values)],axis=1)\n",
    "        data = DataFrame(data).dropna()\n",
    "        testX = data.iloc[-1,:-1]\n",
    "        predictions.append(yhat_scaled)\n",
    "    \n",
    "    predictions = invert_scale(scaler,predictions)\n",
    "    predictions = invert_difference(raw_values[-len_test],predictions[:,0])\n",
    "    \n",
    "    return DataFrame(predictions), DataFrame(raw_values[-len_test:])"
   ]
  },
  {
   "cell_type": "code",
   "execution_count": 44,
   "id": "d3ed92d8-d5cc-4195-993d-9ec0e2b78208",
   "metadata": {},
   "outputs": [],
   "source": [
    "path = \"C:\\\\Users\\\\fatim\\\\Box\\\\Habbab Fatima\\\\Experiment set 3\\\\DataSets\\\\\"\n",
    "asset_list = read_excel(\"C:\\\\Users\\\\fatim\\\\Box\\\\Habbab Fatima\\\\Experiment set 6\\\\asset_list.xlsx\")\n",
    "\n",
    "no_assets = len(asset_list)\n",
    "\n",
    "predictions = DataFrame()\n",
    "test_data = DataFrame()\n",
    "\n",
    "for i in range(0,no_assets):\n",
    "    ticker = asset_list.iloc[i,0]\n",
    "    data = read_excel(path+ticker+\".xlsx\")\n",
    "    series = data[[\"Close\"]].dropna()\n",
    "    \n",
    "    no_features = 2\n",
    "    \n",
    "    yhat, test = experiment(series, no_features)\n",
    "\n",
    "    predictions[ticker] = yhat\n",
    "    test_data[ticker] = test"
   ]
  },
  {
   "cell_type": "code",
   "execution_count": 45,
   "id": "e2acf128-6817-4b63-8581-aaaf0c16aa44",
   "metadata": {},
   "outputs": [],
   "source": [
    "test_data.to_excel(\"test150.xlsx\")"
   ]
  }
 ],
 "metadata": {
  "kernelspec": {
   "display_name": "Python 3 (ipykernel)",
   "language": "python",
   "name": "python3"
  },
  "language_info": {
   "codemirror_mode": {
    "name": "ipython",
    "version": 3
   },
   "file_extension": ".py",
   "mimetype": "text/x-python",
   "name": "python",
   "nbconvert_exporter": "python",
   "pygments_lexer": "ipython3",
   "version": "3.9.12"
  }
 },
 "nbformat": 4,
 "nbformat_minor": 5
}
