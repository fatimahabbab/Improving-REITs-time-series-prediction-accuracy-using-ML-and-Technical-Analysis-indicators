{
 "cells": [
  {
   "cell_type": "code",
   "execution_count": 75,
   "id": "c2496ceb-4616-4ee5-bcad-4dc607e4fbb2",
   "metadata": {},
   "outputs": [],
   "source": [
    "from pandas import read_excel\n",
    "from pandas import DataFrame\n",
    "from pandas import concat\n",
    "from pandas import Series\n",
    "import numpy\n",
    "from numpy import append\n",
    "from numpy import array\n",
    "from numpy import diff\n",
    "from sklearn.preprocessing import MinMaxScaler\n",
    "from keras.models import Sequential\n",
    "from keras.layers import Dense, Activation\n",
    "from keras.layers import LSTM\n",
    "from keras.layers import Dropout\n",
    "from sklearn.metrics import mean_squared_error\n",
    "from math import sqrt\n",
    "import warnings\n",
    "warnings.filterwarnings(\"ignore\")"
   ]
  },
  {
   "cell_type": "code",
   "execution_count": 76,
   "id": "d21f1adb",
   "metadata": {},
   "outputs": [],
   "source": [
    "# create a differenced series\n",
    "def difference(dataset, interval=1):\n",
    "    diff = list()\n",
    "    for i in range(interval, len(dataset)):\n",
    "        value = dataset[i] - dataset[i - interval]\n",
    "        diff.append(value)\n",
    "    return Series(diff)"
   ]
  },
  {
   "cell_type": "code",
   "execution_count": 77,
   "id": "aab7098a",
   "metadata": {},
   "outputs": [],
   "source": [
    "# invert differenced value\n",
    "def inverse_difference(history, yhat, interval=1):\n",
    "    return yhat + history[-interval]"
   ]
  },
  {
   "cell_type": "code",
   "execution_count": 78,
   "id": "d44d969e-c2ea-4368-bd05-e134bb7cdeb2",
   "metadata": {},
   "outputs": [],
   "source": [
    "# Get technical indicators\n",
    "def get_technical_indicators(data):\n",
    "    # Create Moving Average\n",
    "    data = DataFrame(data)\n",
    "    dataset = DataFrame()\n",
    "    dataset['ma5'] = data.rolling(window=5).mean()\n",
    "    dataset['ma20'] = data.rolling(window=25).mean()\n",
    "    \n",
    "    # Create MACD\n",
    "    dataset['25ema'] = data.ewm(span=25).mean()\n",
    "    dataset['10ema'] = data.ewm(span=10).mean()\n",
    "    dataset['MACD'] = dataset['10ema']-dataset['25ema']\n",
    "\n",
    "    # Create Bollinger Bands\n",
    "    dataset['20sd'] = data.rolling(window = 20).std()\n",
    "    dataset['upper_band'] = dataset['ma20'] + (dataset['20sd']*2)\n",
    "    dataset['lower_band'] = dataset['ma20'] - (dataset['20sd']*2)\n",
    "    \n",
    "    # Create Exponential moving average\n",
    "    dataset['ema'] = data.ewm(com=0.5).mean()\n",
    "    \n",
    "    # Create Momentum\n",
    "    dataset['momentum'] = data-1\n",
    "    # dataset['log_momentum'] = log(dataset['momentum'])\n",
    "    return dataset.dropna()"
   ]
  },
  {
   "cell_type": "code",
   "execution_count": 79,
   "id": "ac7c6c1a-c254-4418-88a0-19ea44067b2a",
   "metadata": {},
   "outputs": [],
   "source": [
    "# frame a sequence as a supervised learning problem\n",
    "def timeseries_to_supervised(data, lag=1):\n",
    "    df = DataFrame(data)\n",
    "    columns = [df.shift(i) for i in range(1, lag+1)]\n",
    "    columns.append(df)\n",
    "    df = concat(columns, axis=1)\n",
    "    df.fillna(0, inplace=True)\n",
    "    return df"
   ]
  },
  {
   "cell_type": "code",
   "execution_count": 80,
   "id": "3340861b-86d9-45bc-a4e7-1bbfc1b30efc",
   "metadata": {},
   "outputs": [],
   "source": [
    "# scale train and test data to [-1, 1]\n",
    "def scale(train, test):\n",
    "    # fit scaler\n",
    "    scaler = MinMaxScaler(feature_range=(-1, 1))\n",
    "    scaler = scaler.fit(train)\n",
    "    # transform train\n",
    "    train = train.reshape(train.shape[0], train.shape[1])\n",
    "    train_scaled = scaler.transform(train)\n",
    "    # transform test\n",
    "    test = test.reshape(test.shape[0], test.shape[1])\n",
    "    test_scaled = scaler.transform(test)\n",
    "    return scaler, train_scaled, test_scaled"
   ]
  },
  {
   "cell_type": "code",
   "execution_count": 81,
   "id": "3a8cf8ed-7867-4592-ac71-7e760f347101",
   "metadata": {},
   "outputs": [],
   "source": [
    "# inverse scaling for a forecasted value\n",
    "def invert_scale(scaler, X, value):\n",
    "    new_row = [x for x in X] + [value]\n",
    "    array = numpy.array(new_row)\n",
    "    array = array.reshape(1, len(array))\n",
    "    inverted = scaler.inverse_transform(array)\n",
    "    return inverted[0, -1]"
   ]
  },
  {
   "cell_type": "code",
   "execution_count": 82,
   "id": "d55867ca-7fda-4d51-9494-66da5ac270c0",
   "metadata": {},
   "outputs": [],
   "source": [
    "# fit an LSTM network to training data\n",
    "def model_fit(train, batch_size, nb_epoch, neurons):\n",
    "    X, y = train[:, 0:-1], train[:, -1]\n",
    "    X = X.reshape(X.shape[0], 1, X.shape[1])\n",
    "    model = Sequential()\n",
    "    model.add(LSTM(neurons, batch_input_shape=(batch_size, X.shape[1], X.shape[2]), stateful=True))\n",
    "    model.add(Dense(1))\n",
    "    model.compile(loss='mean_squared_error', optimizer='adam')\n",
    "    for i in range(nb_epoch):\n",
    "        model.fit(X, y, epochs=1, batch_size=batch_size, verbose=1, shuffle=False)\n",
    "        model.reset_states()\n",
    "    return model"
   ]
  },
  {
   "cell_type": "code",
   "execution_count": 83,
   "id": "d83cf2ce-69bd-48fb-8742-1e0bb8a35f76",
   "metadata": {},
   "outputs": [],
   "source": [
    "# make a one-step forecast\n",
    "def model_predict(model, batch_size, X):\n",
    "    X = X.reshape(1, 1, len(X))\n",
    "    yhat = model.predict(X, batch_size=batch_size)\n",
    "    return yhat[0,0]"
   ]
  },
  {
   "cell_type": "code",
   "execution_count": 84,
   "id": "00a335cd-faf8-4569-9987-ca2a2e79e682",
   "metadata": {},
   "outputs": [],
   "source": [
    "# run a repeated experiment\n",
    "def experiment(series, features):\n",
    "    # transform data to be stationary\n",
    "    raw_values = series.values\n",
    "    diff_values = difference(raw_values, 1)\n",
    "\n",
    "    # get technical indicators\n",
    "    df = get_technical_indicators(diff_values)\n",
    "\n",
    "    # transform data to be supervised learning\n",
    "    supervised = timeseries_to_supervised(df, features)\n",
    "    supervised_values = supervised.values\n",
    "    \n",
    "    # split data into train and test-sets\n",
    "    len_test = 30\n",
    "    train, test = supervised_values[:-len_test], supervised_values[-len_test:]\n",
    "    \n",
    "    # transform the scale of the data\n",
    "    scaler, train_scaled, test_scaled = scale(train, test)\n",
    "    \n",
    "    # fit the base model\n",
    "    # n_features = data.shape[1]-1\n",
    "    n_batch = 1\n",
    "    nb_epoch = 50\n",
    "    n_neurons = 1\n",
    "    mod = model_fit(train_scaled, n_batch, nb_epoch, n_neurons)\n",
    "\n",
    "    # forecast test dataset\n",
    "    predictions = list()\n",
    "    for i in range(len(test_scaled)):\n",
    "        # make one-step forecast\n",
    "        X, y = test_scaled[i, 0:-1], test_scaled[i, -1]\n",
    "        yhat = model_predict(mod, n_batch, X)\n",
    "        # invert scaling\n",
    "        yhat = invert_scale(scaler, X, yhat)\n",
    "        # invert differencing\n",
    "        yhat = inverse_difference(raw_values, yhat, len(test_scaled)+1-i)\n",
    "        # store forecast\n",
    "        predictions.append(yhat)\n",
    "\n",
    "    return DataFrame(predictions)"
   ]
  },
  {
   "cell_type": "code",
   "execution_count": null,
   "id": "d3ed92d8-d5cc-4195-993d-9ec0e2b78208",
   "metadata": {},
   "outputs": [
    {
     "name": "stdout",
     "output_type": "stream",
     "text": [
      "\r",
      "  1/578 [..............................] - ETA: 14:51 - loss: 0.2031"
     ]
    }
   ],
   "source": [
    "path = \"C:\\\\Users\\\\fh20175\\\\Box\\\\Habbab Fatima\\\\Experiment set 3\\\\DataSets\\\\\"\n",
    "asset_list = read_excel(\"C:\\\\Users\\\\fh20175\\\\Box\\\\Habbab Fatima\\\\Experiment set 6\\\\asset_list.xlsx\")\n",
    "no_features = read_excel(\"C:\\\\Users\\\\fh20175\\\\Box\\\\Habbab Fatima\\\\Experiment set 6\\\\features.xlsx\")\n",
    "no_assets = len(asset_list)\n",
    "\n",
    "predictions = DataFrame()\n",
    "\n",
    "for i in range(0,no_assets):\n",
    "    ticker = asset_list.iloc[i,0]\n",
    "    data = read_excel(path+ticker+\".xlsx\")\n",
    "    series = data[[\"Close\"]].dropna()\n",
    "    \n",
    "    features = no_features.iloc[i,0]\n",
    "    \n",
    "    yhat = experiment(series, features)\n",
    "\n",
    "    predictions[ticker] = yhat"
   ]
  },
  {
   "cell_type": "code",
   "execution_count": null,
   "id": "e2acf128-6817-4b63-8581-aaaf0c16aa44",
   "metadata": {},
   "outputs": [],
   "source": [
    "predictions.to_excel(\"pred30.xlsx\")"
   ]
  }
 ],
 "metadata": {
  "kernelspec": {
   "display_name": "Python 3 (ipykernel)",
   "language": "python",
   "name": "python3"
  },
  "language_info": {
   "codemirror_mode": {
    "name": "ipython",
    "version": 3
   },
   "file_extension": ".py",
   "mimetype": "text/x-python",
   "name": "python",
   "nbconvert_exporter": "python",
   "pygments_lexer": "ipython3",
   "version": "3.9.12"
  }
 },
 "nbformat": 4,
 "nbformat_minor": 5
}
