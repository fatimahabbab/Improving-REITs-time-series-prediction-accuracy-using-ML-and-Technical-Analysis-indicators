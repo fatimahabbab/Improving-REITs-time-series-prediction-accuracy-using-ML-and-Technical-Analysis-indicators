{
 "cells": [
  {
   "cell_type": "code",
   "execution_count": 1,
   "id": "de2e5ffd",
   "metadata": {},
   "outputs": [],
   "source": [
    "import pandas as pd\n",
    "import numpy as np\n",
    "from sklearn.preprocessing import MinMaxScaler\n",
    "import ta\n",
    "from sklearn.linear_model import LinearRegression"
   ]
  },
  {
   "cell_type": "code",
   "execution_count": null,
   "id": "3ecf2074",
   "metadata": {},
   "outputs": [],
   "source": []
  },
  {
   "cell_type": "code",
   "execution_count": null,
   "id": "a6b905dc",
   "metadata": {},
   "outputs": [],
   "source": []
  },
  {
   "cell_type": "code",
   "execution_count": null,
   "id": "a8ff9266",
   "metadata": {},
   "outputs": [],
   "source": []
  },
  {
   "cell_type": "code",
   "execution_count": null,
   "id": "8b6185b0",
   "metadata": {},
   "outputs": [],
   "source": []
  },
  {
   "cell_type": "code",
   "execution_count": 119,
   "id": "d3ed92d8-d5cc-4195-993d-9ec0e2b78208",
   "metadata": {},
   "outputs": [],
   "source": [
    "path = \"C:\\\\Users\\\\fatim\\\\Box\\\\Habbab Fatima\\\\Experiment set 3\\\\DataSets\\\\\"\n",
    "asset_list = read_excel(\"C:\\\\Users\\\\fatim\\\\Box\\\\Habbab Fatima\\\\Experiment set 6\\\\asset_list.xlsx\")\n",
    "\n",
    "no_assets = len(asset_list)\n",
    "\n",
    "predictions = DataFrame()\n",
    "\n",
    "for i in range(0,no_assets):\n",
    "    ticker = asset_list.iloc[i,0]\n",
    "    data = read_excel(path+ticker+\".xlsx\")\n",
    "    series = data[[\"Close\"]].dropna()\n",
    "    \n",
    "    no_features = 3\n",
    "    \n",
    "    yhat = experiment(series, no_features)\n",
    "\n",
    "    predictions[ticker] = yhat"
   ]
  },
  {
   "cell_type": "code",
   "execution_count": 120,
   "id": "e2acf128-6817-4b63-8581-aaaf0c16aa44",
   "metadata": {},
   "outputs": [],
   "source": [
    "predictions.to_excel(\"test30.xlsx\")"
   ]
  }
 ],
 "metadata": {
  "kernelspec": {
   "display_name": "Python 3 (ipykernel)",
   "language": "python",
   "name": "python3"
  },
  "language_info": {
   "codemirror_mode": {
    "name": "ipython",
    "version": 3
   },
   "file_extension": ".py",
   "mimetype": "text/x-python",
   "name": "python",
   "nbconvert_exporter": "python",
   "pygments_lexer": "ipython3",
   "version": "3.9.12"
  }
 },
 "nbformat": 4,
 "nbformat_minor": 5
}
