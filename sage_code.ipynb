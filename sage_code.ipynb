{
 "cells": [
  {
   "cell_type": "code",
   "execution_count": 45,
   "id": "bc00e9cd-8886-48db-888a-df8b8d7f6848",
   "metadata": {},
   "outputs": [],
   "source": [
    "from pandas import read_excel\n",
    "from pandas import DataFrame\n",
    "from pandas import concat\n",
    "from pandas import Series\n",
    "import numpy\n",
    "from numpy import append\n",
    "from numpy import array\n",
    "from numpy import diff\n",
    "from sklearn.preprocessing import MinMaxScaler\n",
    "from xgboost import XGBRegressor\n",
    "from sklearn.model_selection import RandomizedSearchCV\n",
    "from sklearn.metrics import mean_squared_error\n",
    "from math import sqrt\n",
    "import warnings\n",
    "warnings.filterwarnings(\"ignore\")\n",
    "import sage"
   ]
  },
  {
   "cell_type": "code",
   "execution_count": 46,
   "id": "e989c6ab",
   "metadata": {},
   "outputs": [],
   "source": [
    "# create a differenced series\n",
    "def difference(dataset, interval=1):\n",
    "    diff = list()\n",
    "    for i in range(interval, len(dataset)):\n",
    "        value = dataset[i] - dataset[i - interval]\n",
    "        diff.append(value)\n",
    "    return array(diff)"
   ]
  },
  {
   "cell_type": "code",
   "execution_count": 47,
   "id": "0517763b-f2c8-4838-9370-f31a435fe72f",
   "metadata": {},
   "outputs": [],
   "source": [
    "# scale train and test data to [-1, 1]\n",
    "def scale(train, test):\n",
    "    # fit scaler\n",
    "    scaler = MinMaxScaler(feature_range=(-1, 1))\n",
    "    scaler = scaler.fit(train)\n",
    "    # transform train\n",
    "    train = train.reshape(train.shape[0], train.shape[1])\n",
    "    train_scaled = scaler.transform(train)\n",
    "    # transform test\n",
    "    test = test.reshape(test.shape[0], test.shape[1])\n",
    "    test_scaled = scaler.transform(test)\n",
    "    return scaler, train_scaled, test_scaled"
   ]
  },
  {
   "cell_type": "code",
   "execution_count": 48,
   "id": "658704fb-5364-45bc-9cc7-9d6a71551ec3",
   "metadata": {},
   "outputs": [],
   "source": [
    "def get_technical_indicators(data):\n",
    "    # Create Moving Average\n",
    "    data = DataFrame(data)\n",
    "    dataset = DataFrame()\n",
    "    dataset['ma5'] = data.rolling(window=5).mean()\n",
    "    dataset['ma20'] = data.rolling(window=25).mean()\n",
    "    \n",
    "    # Create MACD\n",
    "    dataset['25ema'] = data.ewm(span=25).mean()\n",
    "    dataset['10ema'] = data.ewm(span=10).mean()\n",
    "    dataset['MACD'] = dataset['10ema']-dataset['25ema']\n",
    "\n",
    "    # Create Bollinger Bands\n",
    "    dataset['20sd'] = data.rolling(window = 20).std()\n",
    "    dataset['upper_band'] = dataset['ma20'] + (dataset['20sd']*2)\n",
    "    dataset['lower_band'] = dataset['ma20'] - (dataset['20sd']*2)\n",
    "    \n",
    "    # Create Exponential moving average\n",
    "    dataset['ema'] = data.ewm(com=0.5).mean()\n",
    "    \n",
    "    # Create Momentum\n",
    "    dataset['momentum'] = data-1\n",
    "    # dataset['log_momentum'] = log(dataset['momentum'])\n",
    "    return dataset.dropna()"
   ]
  },
  {
   "cell_type": "code",
   "execution_count": 49,
   "id": "da261b12-a1d5-433d-a6a8-84acdaf19174",
   "metadata": {},
   "outputs": [],
   "source": [
    "def timeseries_to_supervised(data, lag):\n",
    "    df = DataFrame(data)\n",
    "    columns = [df.shift(i) for i in range(1, lag+1)]\n",
    "    columns.append(df)\n",
    "    df = concat(columns, axis=1)\n",
    "    return DataFrame(df)"
   ]
  },
  {
   "cell_type": "code",
   "execution_count": 50,
   "id": "9c602525-5c45-4754-83b4-9e4ab018dd12",
   "metadata": {},
   "outputs": [],
   "source": [
    "# fit ML model\n",
    "def model_fit(X,y):\n",
    "    params = {'max_depth': range(3,21,3),\n",
    "              'min_child_weight': range(1,5,1),\n",
    "              'learning_rate': [0.001,0.01,0.1],\n",
    "              'n_estimators': [250,500,750,1000],\n",
    "              'colsample_bytree': [i/10.0 for i in range(3,10)],\n",
    "              'colsample_bylevel': [i/10.0 for i in range(3,10)],\n",
    "              'gamma': [i/10.0 for i in range(0,5)]}\n",
    "    model = RandomizedSearchCV(XGBRegressor(),params,cv=5,n_iter=20,refit=\"AUC\",verbose=1,n_jobs=-1)\n",
    "    model_fit = model.fit(X,y)\n",
    "    return model_fit"
   ]
  },
  {
   "cell_type": "code",
   "execution_count": 51,
   "id": "b89e743f-c364-4ecc-9bf4-e13a4902f459",
   "metadata": {},
   "outputs": [],
   "source": [
    "def experiment(series, features):\n",
    "    # transform data to be stationary\n",
    "    raw_values = series.values\n",
    "    diff_values = difference(raw_values)\n",
    "    \n",
    "    # split data into train and test-sets\n",
    "    len_test = 150\n",
    "    train = diff_values[:-len_test]\n",
    "    test = diff_values[-len_test:]\n",
    "    \n",
    "    # transform the scale of the data\n",
    "    scaler, train_scaled, test_scaled = scale(train, test)\n",
    "    \n",
    "    # get technical indicators\n",
    "    df = get_technical_indicators(train_scaled)\n",
    "    \n",
    "    # transform data to be supervised learning\n",
    "    supervised = timeseries_to_supervised(train_scaled, features)\n",
    "    supervised_values = supervised.values[features:,:]\n",
    "    \n",
    "    new_df = concat([df, DataFrame(supervised_values)],axis=1).dropna()\n",
    "    \n",
    "    # fit the base model\n",
    "    X,y = new_df.iloc[:,:-1], new_df.iloc[:,-1]\n",
    "    mod = model_fit(X,y)\n",
    "    \n",
    "    # Calculate SAGE values\n",
    "    imputer = sage.MarginalImputer(mod.predict, X.values)\n",
    "    estimator = sage.PermutationEstimator(imputer, 'mse')\n",
    "    sage_values = estimator(X.values,y.values)\n",
    "    \n",
    "    return sage_values.values"
   ]
  },
  {
   "cell_type": "code",
   "execution_count": null,
   "id": "9842f333-e0c2-413f-aeef-ecfa27266576",
   "metadata": {},
   "outputs": [],
   "source": [
    "path = \"C:\\\\Users\\\\fatim\\\\Box\\\\Habbab Fatima\\\\Experiment set 3\\\\DataSets\\\\\"\n",
    "asset_list = read_excel(\"C:\\\\Users\\\\fatim\\\\Box\\\\Habbab Fatima\\\\Experiment set 6\\\\asset_list.xlsx\")\n",
    "\n",
    "no_assets = len(asset_list)\n",
    "\n",
    "sage_data = DataFrame()\n",
    "\n",
    "for i in range(0,no_assets):\n",
    "    ticker = asset_list.iloc[i,0]\n",
    "    data = read_excel(path+ticker+\".xlsx\")\n",
    "    series = data[[\"Close\"]].dropna()\n",
    "    \n",
    "    no_features = 5\n",
    "    \n",
    "    sage_results = experiment(series, no_features)\n",
    "\n",
    "    sage_data[ticker] = sage_results"
   ]
  },
  {
   "cell_type": "code",
   "execution_count": 54,
   "id": "6d20b7e3-3ad3-4dbe-ac63-b446884523e5",
   "metadata": {},
   "outputs": [],
   "source": [
    "sage_data.to_excel(\"sage_values.xlsx\")"
   ]
  },
  {
   "cell_type": "code",
   "execution_count": null,
   "id": "1affa5d8",
   "metadata": {},
   "outputs": [],
   "source": []
  }
 ],
 "metadata": {
  "kernelspec": {
   "display_name": "Python 3 (ipykernel)",
   "language": "python",
   "name": "python3"
  },
  "language_info": {
   "codemirror_mode": {
    "name": "ipython",
    "version": 3
   },
   "file_extension": ".py",
   "mimetype": "text/x-python",
   "name": "python",
   "nbconvert_exporter": "python",
   "pygments_lexer": "ipython3",
   "version": "3.9.12"
  }
 },
 "nbformat": 4,
 "nbformat_minor": 5
}
